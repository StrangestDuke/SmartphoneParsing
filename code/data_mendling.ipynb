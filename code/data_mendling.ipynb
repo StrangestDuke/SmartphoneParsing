{
 "cells": [
  {
   "cell_type": "code",
   "execution_count": 1,
   "id": "a77fc2e7-1172-4e22-a509-6cf11f21948f",
   "metadata": {
    "tags": []
   },
   "outputs": [],
   "source": [
    "import pandas as pd\n",
    "import numpy as np\n",
    "import matplotlib.pyplot as plt\n",
    "import seaborn as sns\n",
    "import pickle \n",
    "import plotly.express as px\n",
    "\n",
    "import json\n",
    "\n",
    "from sklearn.preprocessing import MinMaxScaler\n",
    "from sklearn.preprocessing import OneHotEncoder\n",
    "from sklearn.model_selection import train_test_split"
   ]
  },
  {
   "cell_type": "code",
   "execution_count": 2,
   "id": "158979a4-cc6e-4c80-9f8e-dde225513199",
   "metadata": {
    "tags": []
   },
   "outputs": [],
   "source": [
    "df = pd.read_csv(\"csvfile.csv\")"
   ]
  },
  {
   "cell_type": "code",
   "execution_count": 3,
   "id": "37c33f0f-358c-408c-946a-0b4cdf4c63d0",
   "metadata": {
    "tags": []
   },
   "outputs": [
    {
     "name": "stdout",
     "output_type": "stream",
     "text": [
      "<class 'pandas.core.frame.DataFrame'>\n",
      "RangeIndex: 188 entries, 0 to 187\n",
      "Data columns (total 13 columns):\n",
      " #   Column      Non-Null Count  Dtype  \n",
      "---  ------      --------------  -----  \n",
      " 0   link        188 non-null    object \n",
      " 1   name        187 non-null    object \n",
      " 2   price       187 non-null    object \n",
      " 3   sales       0 non-null      float64\n",
      " 4   stars       92 non-null     object \n",
      " 5   rec_proc    0 non-null      float64\n",
      " 6   review_num  95 non-null     object \n",
      " 7   OS          187 non-null    object \n",
      " 8   RAM         187 non-null    object \n",
      " 9   ROM         187 non-null    object \n",
      " 10  diag        187 non-null    object \n",
      " 11  bat         187 non-null    object \n",
      " 12  cam         40 non-null     object \n",
      "dtypes: float64(2), object(11)\n",
      "memory usage: 19.2+ KB\n"
     ]
    }
   ],
   "source": [
    "df.info()"
   ]
  },
  {
   "cell_type": "code",
   "execution_count": 5,
   "id": "eebb5165-d1be-4f98-b70f-e94d059ef4ac",
   "metadata": {
    "tags": []
   },
   "outputs": [],
   "source": [
    "df = df.drop(columns = [\"sales\",\"rec_proc\", \"cam\"], axis=1)"
   ]
  },
  {
   "cell_type": "code",
   "execution_count": 8,
   "id": "e0eef106-0d38-4b01-96a8-e51e8e3816be",
   "metadata": {
    "tags": []
   },
   "outputs": [
    {
     "data": {
      "text/html": [
       "<div>\n",
       "<style scoped>\n",
       "    .dataframe tbody tr th:only-of-type {\n",
       "        vertical-align: middle;\n",
       "    }\n",
       "\n",
       "    .dataframe tbody tr th {\n",
       "        vertical-align: top;\n",
       "    }\n",
       "\n",
       "    .dataframe thead th {\n",
       "        text-align: right;\n",
       "    }\n",
       "</style>\n",
       "<table border=\"1\" class=\"dataframe\">\n",
       "  <thead>\n",
       "    <tr style=\"text-align: right;\">\n",
       "      <th></th>\n",
       "      <th>link</th>\n",
       "      <th>name</th>\n",
       "      <th>price</th>\n",
       "      <th>stars</th>\n",
       "      <th>review_num</th>\n",
       "      <th>OS</th>\n",
       "      <th>RAM</th>\n",
       "      <th>ROM</th>\n",
       "      <th>diag</th>\n",
       "      <th>bat</th>\n",
       "    </tr>\n",
       "  </thead>\n",
       "  <tbody>\n",
       "    <tr>\n",
       "      <th>0</th>\n",
       "      <td>https://www.joom.ru/ru/products/66b1ed4d9d659d...</td>\n",
       "      <td>VIVO X100 Ultra 5G Смартфон 6,78 дюйма AMOLED ...</td>\n",
       "      <td>99 888 ₽</td>\n",
       "      <td>NaN</td>\n",
       "      <td>NaN</td>\n",
       "      <td>Android 14</td>\n",
       "      <td>12 ГБ</td>\n",
       "      <td>256 ГБ</td>\n",
       "      <td>6,78\"</td>\n",
       "      <td>5 500 мА·ч</td>\n",
       "    </tr>\n",
       "    <tr>\n",
       "      <th>1</th>\n",
       "      <td>https://www.joom.ru/ru/products/66b331016076a0...</td>\n",
       "      <td>Версия CN Xiaomi 14 Ultra 5G Смартфон 6.73 дюй...</td>\n",
       "      <td>95 103 ₽</td>\n",
       "      <td>NaN</td>\n",
       "      <td>NaN</td>\n",
       "      <td>Android 14</td>\n",
       "      <td>12 ГБ</td>\n",
       "      <td>256 ГБ</td>\n",
       "      <td>6,73\"</td>\n",
       "      <td>5 300 мА·ч</td>\n",
       "    </tr>\n",
       "    <tr>\n",
       "      <th>2</th>\n",
       "      <td>https://www.joom.ru/ru/products/66b2db8e163a53...</td>\n",
       "      <td>OPPO Найти N3 Flip 5G Smartphone Dimensity 9200</td>\n",
       "      <td>87 747 ₽</td>\n",
       "      <td>NaN</td>\n",
       "      <td>NaN</td>\n",
       "      <td>Android 13</td>\n",
       "      <td>12 ГБ</td>\n",
       "      <td>256 ГБ</td>\n",
       "      <td>6,8\"</td>\n",
       "      <td>5 000 мА·ч</td>\n",
       "    </tr>\n",
       "    <tr>\n",
       "      <th>3</th>\n",
       "      <td>https://www.joom.ru/ru/products/66d14582603ee1...</td>\n",
       "      <td>NUBIA Смартфон REDMAGIC 9S Pro 5G</td>\n",
       "      <td>92 176 ₽</td>\n",
       "      <td>NaN</td>\n",
       "      <td>NaN</td>\n",
       "      <td>Android 14.0</td>\n",
       "      <td>16 ГБ</td>\n",
       "      <td>512 ГБ</td>\n",
       "      <td>6,8\"</td>\n",
       "      <td>6 500 мА·ч</td>\n",
       "    </tr>\n",
       "    <tr>\n",
       "      <th>4</th>\n",
       "      <td>https://www.joom.ru/ru/products/66b2e3016076a0...</td>\n",
       "      <td>OPPO Найти X7 Ultra 5G Смартфон 6,78 дюйма Sna...</td>\n",
       "      <td>89 438 ₽</td>\n",
       "      <td>NaN</td>\n",
       "      <td>NaN</td>\n",
       "      <td>Android 14</td>\n",
       "      <td>12 ГБ</td>\n",
       "      <td>256 ГБ</td>\n",
       "      <td>6,82\"</td>\n",
       "      <td>5 000 мА·ч</td>\n",
       "    </tr>\n",
       "  </tbody>\n",
       "</table>\n",
       "</div>"
      ],
      "text/plain": [
       "                                                link  \\\n",
       "0  https://www.joom.ru/ru/products/66b1ed4d9d659d...   \n",
       "1  https://www.joom.ru/ru/products/66b331016076a0...   \n",
       "2  https://www.joom.ru/ru/products/66b2db8e163a53...   \n",
       "3  https://www.joom.ru/ru/products/66d14582603ee1...   \n",
       "4  https://www.joom.ru/ru/products/66b2e3016076a0...   \n",
       "\n",
       "                                                name     price stars  \\\n",
       "0  VIVO X100 Ultra 5G Смартфон 6,78 дюйма AMOLED ...  99 888 ₽   NaN   \n",
       "1  Версия CN Xiaomi 14 Ultra 5G Смартфон 6.73 дюй...  95 103 ₽   NaN   \n",
       "2    OPPO Найти N3 Flip 5G Smartphone Dimensity 9200  87 747 ₽   NaN   \n",
       "3                  NUBIA Смартфон REDMAGIC 9S Pro 5G  92 176 ₽   NaN   \n",
       "4  OPPO Найти X7 Ultra 5G Смартфон 6,78 дюйма Sna...  89 438 ₽   NaN   \n",
       "\n",
       "  review_num            OS    RAM     ROM   diag         bat  \n",
       "0        NaN    Android 14  12 ГБ  256 ГБ  6,78\"  5 500 мА·ч  \n",
       "1        NaN    Android 14  12 ГБ  256 ГБ  6,73\"  5 300 мА·ч  \n",
       "2        NaN    Android 13  12 ГБ  256 ГБ   6,8\"  5 000 мА·ч  \n",
       "3        NaN  Android 14.0  16 ГБ  512 ГБ   6,8\"  6 500 мА·ч  \n",
       "4        NaN    Android 14  12 ГБ  256 ГБ  6,82\"  5 000 мА·ч  "
      ]
     },
     "execution_count": 8,
     "metadata": {},
     "output_type": "execute_result"
    }
   ],
   "source": [
    "df.head()"
   ]
  },
  {
   "cell_type": "code",
   "execution_count": 6,
   "id": "4c10fca3-1db4-4ac9-89da-3dcab9aa0ba8",
   "metadata": {
    "tags": []
   },
   "outputs": [],
   "source": [
    "#Так, сейчас мне нужно покупки закинуть в сейлс, а рекомендации в rec, бесплатную доставку на NAN поменять"
   ]
  },
  {
   "cell_type": "code",
   "execution_count": 7,
   "id": "6cfff750-d40e-485f-883f-5dd9ce7c89b2",
   "metadata": {
    "tags": []
   },
   "outputs": [],
   "source": [
    "import pickle\n",
    "with open('../db/getting_over_it.pkl', 'wb') as f:\n",
    "    pickle.dump(df, f)"
   ]
  }
 ],
 "metadata": {
  "kernelspec": {
   "display_name": "Python 3 (ipykernel)",
   "language": "python",
   "name": "python3"
  },
  "language_info": {
   "codemirror_mode": {
    "name": "ipython",
    "version": 3
   },
   "file_extension": ".py",
   "mimetype": "text/x-python",
   "name": "python",
   "nbconvert_exporter": "python",
   "pygments_lexer": "ipython3",
   "version": "3.11.8"
  }
 },
 "nbformat": 4,
 "nbformat_minor": 5
}
