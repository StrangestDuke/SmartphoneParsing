{
 "cells": [
  {
   "cell_type": "code",
   "execution_count": 1,
   "id": "a77fc2e7-1172-4e22-a509-6cf11f21948f",
   "metadata": {
    "tags": []
   },
   "outputs": [],
   "source": [
    "import pandas as pd\n",
    "import numpy as np\n",
    "import matplotlib.pyplot as plt\n",
    "import seaborn as sns\n",
    "import pickle \n",
    "import plotly.express as px\n",
    "\n",
    "import json\n",
    "\n",
    "from sklearn.preprocessing import MinMaxScaler\n",
    "from sklearn.preprocessing import OneHotEncoder\n",
    "from sklearn.model_selection import train_test_split"
   ]
  },
  {
   "cell_type": "code",
   "execution_count": 7,
   "id": "158979a4-cc6e-4c80-9f8e-dde225513199",
   "metadata": {
    "tags": []
   },
   "outputs": [],
   "source": [
    "df = pd.read_csv(\"csvfile.csv\")"
   ]
  },
  {
   "cell_type": "code",
   "execution_count": 13,
   "id": "37c33f0f-358c-408c-946a-0b4cdf4c63d0",
   "metadata": {
    "tags": []
   },
   "outputs": [
    {
     "name": "stdout",
     "output_type": "stream",
     "text": [
      "<class 'pandas.core.frame.DataFrame'>\n",
      "RangeIndex: 188 entries, 0 to 187\n",
      "Data columns (total 7 columns):\n",
      " #   Column  Non-Null Count  Dtype \n",
      "---  ------  --------------  ----- \n",
      " 0   name    187 non-null    object\n",
      " 1   price   187 non-null    object\n",
      " 2   OS      187 non-null    object\n",
      " 3   RAM     187 non-null    object\n",
      " 4   ROM     187 non-null    object\n",
      " 5   diag    187 non-null    object\n",
      " 6   bat     187 non-null    object\n",
      "dtypes: object(7)\n",
      "memory usage: 10.4+ KB\n"
     ]
    }
   ],
   "source": [
    "df.info()"
   ]
  },
  {
   "cell_type": "code",
   "execution_count": 12,
   "id": "e0eef106-0d38-4b01-96a8-e51e8e3816be",
   "metadata": {
    "tags": []
   },
   "outputs": [
    {
     "data": {
      "text/html": [
       "<div>\n",
       "<style scoped>\n",
       "    .dataframe tbody tr th:only-of-type {\n",
       "        vertical-align: middle;\n",
       "    }\n",
       "\n",
       "    .dataframe tbody tr th {\n",
       "        vertical-align: top;\n",
       "    }\n",
       "\n",
       "    .dataframe thead th {\n",
       "        text-align: right;\n",
       "    }\n",
       "</style>\n",
       "<table border=\"1\" class=\"dataframe\">\n",
       "  <thead>\n",
       "    <tr style=\"text-align: right;\">\n",
       "      <th></th>\n",
       "      <th>name</th>\n",
       "      <th>price</th>\n",
       "      <th>OS</th>\n",
       "      <th>RAM</th>\n",
       "      <th>ROM</th>\n",
       "      <th>diag</th>\n",
       "      <th>bat</th>\n",
       "    </tr>\n",
       "  </thead>\n",
       "  <tbody>\n",
       "    <tr>\n",
       "      <th>0</th>\n",
       "      <td>VIVO X100 Ultra 5G Смартфон 6,78 дюйма AMOLED ...</td>\n",
       "      <td>99 888 ₽</td>\n",
       "      <td>Android 14</td>\n",
       "      <td>12 ГБ</td>\n",
       "      <td>256 ГБ</td>\n",
       "      <td>6,78\"</td>\n",
       "      <td>5 500 мА·ч</td>\n",
       "    </tr>\n",
       "    <tr>\n",
       "      <th>1</th>\n",
       "      <td>Версия CN Xiaomi 14 Ultra 5G Смартфон 6.73 дюй...</td>\n",
       "      <td>95 103 ₽</td>\n",
       "      <td>Android 14</td>\n",
       "      <td>12 ГБ</td>\n",
       "      <td>256 ГБ</td>\n",
       "      <td>6,73\"</td>\n",
       "      <td>5 300 мА·ч</td>\n",
       "    </tr>\n",
       "    <tr>\n",
       "      <th>2</th>\n",
       "      <td>OPPO Найти N3 Flip 5G Smartphone Dimensity 9200</td>\n",
       "      <td>87 747 ₽</td>\n",
       "      <td>Android 13</td>\n",
       "      <td>12 ГБ</td>\n",
       "      <td>256 ГБ</td>\n",
       "      <td>6,8\"</td>\n",
       "      <td>5 000 мА·ч</td>\n",
       "    </tr>\n",
       "    <tr>\n",
       "      <th>3</th>\n",
       "      <td>NUBIA Смартфон REDMAGIC 9S Pro 5G</td>\n",
       "      <td>92 176 ₽</td>\n",
       "      <td>Android 14.0</td>\n",
       "      <td>16 ГБ</td>\n",
       "      <td>512 ГБ</td>\n",
       "      <td>6,8\"</td>\n",
       "      <td>6 500 мА·ч</td>\n",
       "    </tr>\n",
       "    <tr>\n",
       "      <th>4</th>\n",
       "      <td>OPPO Найти X7 Ultra 5G Смартфон 6,78 дюйма Sna...</td>\n",
       "      <td>89 438 ₽</td>\n",
       "      <td>Android 14</td>\n",
       "      <td>12 ГБ</td>\n",
       "      <td>256 ГБ</td>\n",
       "      <td>6,82\"</td>\n",
       "      <td>5 000 мА·ч</td>\n",
       "    </tr>\n",
       "  </tbody>\n",
       "</table>\n",
       "</div>"
      ],
      "text/plain": [
       "                                                name     price            OS  \\\n",
       "0  VIVO X100 Ultra 5G Смартфон 6,78 дюйма AMOLED ...  99 888 ₽    Android 14   \n",
       "1  Версия CN Xiaomi 14 Ultra 5G Смартфон 6.73 дюй...  95 103 ₽    Android 14   \n",
       "2    OPPO Найти N3 Flip 5G Smartphone Dimensity 9200  87 747 ₽    Android 13   \n",
       "3                  NUBIA Смартфон REDMAGIC 9S Pro 5G  92 176 ₽  Android 14.0   \n",
       "4  OPPO Найти X7 Ultra 5G Смартфон 6,78 дюйма Sna...  89 438 ₽    Android 14   \n",
       "\n",
       "     RAM     ROM   diag         bat  \n",
       "0  12 ГБ  256 ГБ  6,78\"  5 500 мА·ч  \n",
       "1  12 ГБ  256 ГБ  6,73\"  5 300 мА·ч  \n",
       "2  12 ГБ  256 ГБ   6,8\"  5 000 мА·ч  \n",
       "3  16 ГБ  512 ГБ   6,8\"  6 500 мА·ч  \n",
       "4  12 ГБ  256 ГБ  6,82\"  5 000 мА·ч  "
      ]
     },
     "execution_count": 12,
     "metadata": {},
     "output_type": "execute_result"
    }
   ],
   "source": [
    "df.head()"
   ]
  },
  {
   "cell_type": "code",
   "execution_count": 11,
   "id": "eebb5165-d1be-4f98-b70f-e94d059ef4ac",
   "metadata": {
    "tags": []
   },
   "outputs": [],
   "source": [
    "df = df.drop(columns = [\"sales\", \"link\", \"stars\", \"rec_proc\", \"review_num\", \"cam\"], axis=1)"
   ]
  },
  {
   "cell_type": "code",
   "execution_count": null,
   "id": "4c10fca3-1db4-4ac9-89da-3dcab9aa0ba8",
   "metadata": {
    "tags": []
   },
   "outputs": [],
   "source": [
    "#Так, сейчас мне нужно покупки закинуть в сейлс, а рекомендации в rec, бесплатную доставку на NAN поменять"
   ]
  },
  {
   "cell_type": "code",
   "execution_count": null,
   "id": "6cfff750-d40e-485f-883f-5dd9ce7c89b2",
   "metadata": {},
   "outputs": [],
   "source": [
    "import pickle\n",
    "with open('../db/getting_over_it.pkl', 'wb') as f:\n",
    "    pickle.dump(df, f)"
   ]
  }
 ],
 "metadata": {
  "kernelspec": {
   "display_name": "Python 3 (ipykernel)",
   "language": "python",
   "name": "python3"
  },
  "language_info": {
   "codemirror_mode": {
    "name": "ipython",
    "version": 3
   },
   "file_extension": ".py",
   "mimetype": "text/x-python",
   "name": "python",
   "nbconvert_exporter": "python",
   "pygments_lexer": "ipython3",
   "version": "3.11.8"
  }
 },
 "nbformat": 4,
 "nbformat_minor": 5
}
