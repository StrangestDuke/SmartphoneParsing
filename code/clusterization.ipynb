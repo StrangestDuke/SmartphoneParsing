{
 "cells": [
  {
   "cell_type": "code",
   "execution_count": 1,
   "id": "37fda771-78c4-4df0-9179-a49cf6866849",
   "metadata": {
    "tags": []
   },
   "outputs": [],
   "source": [
    "import pandas as pd\n",
    "import numpy as np\n",
    "import matplotlib.pyplot as plt\n",
    "import seaborn as sns\n",
    "import pickle \n",
    "import plotly.express as px\n",
    "\n",
    "\n",
    "from sklearn.preprocessing import MinMaxScaler\n",
    "from sklearn.preprocessing import OneHotEncoder\n",
    "from sklearn.model_selection import train_test_split\n"
   ]
  },
  {
   "cell_type": "code",
   "execution_count": 2,
   "id": "4c2f9359-2ec7-4497-8bef-af4145b40a37",
   "metadata": {
    "tags": []
   },
   "outputs": [],
   "source": [
    "from sklearn.cluster import KMeans"
   ]
  },
  {
   "cell_type": "code",
   "execution_count": 3,
   "id": "05fa5e4d-e03b-4632-b22d-8cad97452d6a",
   "metadata": {
    "tags": []
   },
   "outputs": [],
   "source": [
    "df = pd.read_pickle(r\"../db/getting_over_it.pkl\")"
   ]
  },
  {
   "cell_type": "code",
   "execution_count": 4,
   "id": "6ebd28fa-9c11-4ebb-b336-1f88bf9ebcf5",
   "metadata": {
    "tags": []
   },
   "outputs": [
    {
     "name": "stdout",
     "output_type": "stream",
     "text": [
      "<class 'pandas.core.frame.DataFrame'>\n",
      "RangeIndex: 5 entries, 0 to 4\n",
      "Data columns (total 8 columns):\n",
      " #   Column  Non-Null Count  Dtype \n",
      "---  ------  --------------  ----- \n",
      " 0   link    5 non-null      object\n",
      " 1   name    5 non-null      object\n",
      " 2   price   5 non-null      object\n",
      " 3   OS      5 non-null      object\n",
      " 4   RAM     5 non-null      object\n",
      " 5   ROM     5 non-null      object\n",
      " 6   diag    5 non-null      object\n",
      " 7   bat     5 non-null      object\n",
      "dtypes: object(8)\n",
      "memory usage: 452.0+ bytes\n"
     ]
    }
   ],
   "source": [
    "df.info()"
   ]
  },
  {
   "cell_type": "code",
   "execution_count": 5,
   "id": "4f00e70f-2b07-4847-84a1-e2c58f14a843",
   "metadata": {
    "tags": []
   },
   "outputs": [
    {
     "data": {
      "text/html": [
       "<div>\n",
       "<style scoped>\n",
       "    .dataframe tbody tr th:only-of-type {\n",
       "        vertical-align: middle;\n",
       "    }\n",
       "\n",
       "    .dataframe tbody tr th {\n",
       "        vertical-align: top;\n",
       "    }\n",
       "\n",
       "    .dataframe thead th {\n",
       "        text-align: right;\n",
       "    }\n",
       "</style>\n",
       "<table border=\"1\" class=\"dataframe\">\n",
       "  <thead>\n",
       "    <tr style=\"text-align: right;\">\n",
       "      <th></th>\n",
       "      <th>link</th>\n",
       "      <th>name</th>\n",
       "      <th>price</th>\n",
       "      <th>OS</th>\n",
       "      <th>RAM</th>\n",
       "      <th>ROM</th>\n",
       "      <th>diag</th>\n",
       "      <th>bat</th>\n",
       "    </tr>\n",
       "  </thead>\n",
       "  <tbody>\n",
       "    <tr>\n",
       "      <th>0</th>\n",
       "      <td>https://www.joom.ru/ru/products/66b1ed4d9d659d...</td>\n",
       "      <td>VIVO X100 Ultra 5G Смартфон 6,78 дюйма AMOLED ...</td>\n",
       "      <td>99 888 ₽</td>\n",
       "      <td>Android 14</td>\n",
       "      <td>12 ГБ</td>\n",
       "      <td>256 ГБ</td>\n",
       "      <td>6,78\"</td>\n",
       "      <td>5 500 мА·ч</td>\n",
       "    </tr>\n",
       "    <tr>\n",
       "      <th>1</th>\n",
       "      <td>https://www.joom.ru/ru/products/66b331016076a0...</td>\n",
       "      <td>Версия CN Xiaomi 14 Ultra 5G Смартфон 6.73 дюй...</td>\n",
       "      <td>95 103 ₽</td>\n",
       "      <td>Android 14</td>\n",
       "      <td>12 ГБ</td>\n",
       "      <td>256 ГБ</td>\n",
       "      <td>6,73\"</td>\n",
       "      <td>5 300 мА·ч</td>\n",
       "    </tr>\n",
       "    <tr>\n",
       "      <th>2</th>\n",
       "      <td>https://www.joom.ru/ru/products/66b2db8e163a53...</td>\n",
       "      <td>OPPO Найти N3 Flip 5G Smartphone Dimensity 9200</td>\n",
       "      <td>87 747 ₽</td>\n",
       "      <td>Android 13</td>\n",
       "      <td>12 ГБ</td>\n",
       "      <td>256 ГБ</td>\n",
       "      <td>6,8\"</td>\n",
       "      <td>5 000 мА·ч</td>\n",
       "    </tr>\n",
       "    <tr>\n",
       "      <th>3</th>\n",
       "      <td>https://www.joom.ru/ru/products/66d14582603ee1...</td>\n",
       "      <td>NUBIA Смартфон REDMAGIC 9S Pro 5G</td>\n",
       "      <td>92 176 ₽</td>\n",
       "      <td>Android 14.0</td>\n",
       "      <td>16 ГБ</td>\n",
       "      <td>512 ГБ</td>\n",
       "      <td>6,8\"</td>\n",
       "      <td>6 500 мА·ч</td>\n",
       "    </tr>\n",
       "    <tr>\n",
       "      <th>4</th>\n",
       "      <td>https://www.joom.ru/ru/products/66b2e3016076a0...</td>\n",
       "      <td>OPPO Найти X7 Ultra 5G Смартфон 6,78 дюйма Sna...</td>\n",
       "      <td>89 438 ₽</td>\n",
       "      <td>Android 14</td>\n",
       "      <td>12 ГБ</td>\n",
       "      <td>256 ГБ</td>\n",
       "      <td>6,82\"</td>\n",
       "      <td>5 000 мА·ч</td>\n",
       "    </tr>\n",
       "  </tbody>\n",
       "</table>\n",
       "</div>"
      ],
      "text/plain": [
       "                                                link  \\\n",
       "0  https://www.joom.ru/ru/products/66b1ed4d9d659d...   \n",
       "1  https://www.joom.ru/ru/products/66b331016076a0...   \n",
       "2  https://www.joom.ru/ru/products/66b2db8e163a53...   \n",
       "3  https://www.joom.ru/ru/products/66d14582603ee1...   \n",
       "4  https://www.joom.ru/ru/products/66b2e3016076a0...   \n",
       "\n",
       "                                                name     price            OS  \\\n",
       "0  VIVO X100 Ultra 5G Смартфон 6,78 дюйма AMOLED ...  99 888 ₽    Android 14   \n",
       "1  Версия CN Xiaomi 14 Ultra 5G Смартфон 6.73 дюй...  95 103 ₽    Android 14   \n",
       "2    OPPO Найти N3 Flip 5G Smartphone Dimensity 9200  87 747 ₽    Android 13   \n",
       "3                  NUBIA Смартфон REDMAGIC 9S Pro 5G  92 176 ₽  Android 14.0   \n",
       "4  OPPO Найти X7 Ultra 5G Смартфон 6,78 дюйма Sna...  89 438 ₽    Android 14   \n",
       "\n",
       "     RAM     ROM   diag         bat  \n",
       "0  12 ГБ  256 ГБ  6,78\"  5 500 мА·ч  \n",
       "1  12 ГБ  256 ГБ  6,73\"  5 300 мА·ч  \n",
       "2  12 ГБ  256 ГБ   6,8\"  5 000 мА·ч  \n",
       "3  16 ГБ  512 ГБ   6,8\"  6 500 мА·ч  \n",
       "4  12 ГБ  256 ГБ  6,82\"  5 000 мА·ч  "
      ]
     },
     "execution_count": 5,
     "metadata": {},
     "output_type": "execute_result"
    }
   ],
   "source": [
    "df.head()"
   ]
  },
  {
   "cell_type": "code",
   "execution_count": 6,
   "id": "f8dd9dc2-1246-4200-8133-09ddb8a839d6",
   "metadata": {},
   "outputs": [],
   "source": [
    "#Необходимо вырезать ссылку на продукт.\n",
    "#Выбрать основные кампании \n",
    "#Избавиться от имени\n",
    "#Подрезать знак рубля в цене\n",
    "#Подрезать покупки\n",
    "#Перевести процентовку рекомендуют в флоат\n",
    "#Количество обзоров в интов\n",
    "#Избавиться от мегапикселей\n",
    "#Избавиться от мА ч\n",
    "#Избавиться от \" в диагонали\n",
    "#Тыкнуть в ROM только первую часть и избавиться от гб\n",
    "#Избавиться от гб в РАМ"
   ]
  },
  {
   "cell_type": "code",
   "execution_count": 7,
   "id": "70a52bc9-bbd1-49d5-9ab8-2b1588d7a745",
   "metadata": {
    "tags": []
   },
   "outputs": [
    {
     "data": {
      "text/plain": [
       "array(['Android 14', 'Android 13', 'Android 14.0'], dtype=object)"
      ]
     },
     "execution_count": 7,
     "metadata": {},
     "output_type": "execute_result"
    }
   ],
   "source": [
    "df['OS'].unique()"
   ]
  },
  {
   "cell_type": "code",
   "execution_count": 8,
   "id": "c9d63d57-6eab-43ef-b97d-e587242dd9cd",
   "metadata": {
    "tags": []
   },
   "outputs": [],
   "source": [
    "bf_cleaned = df.dropna()"
   ]
  },
  {
   "cell_type": "code",
   "execution_count": 9,
   "id": "cd4e8287-b6c1-4826-986a-32a540e5c821",
   "metadata": {
    "tags": []
   },
   "outputs": [
    {
     "name": "stdout",
     "output_type": "stream",
     "text": [
      "<class 'pandas.core.frame.DataFrame'>\n",
      "RangeIndex: 5 entries, 0 to 4\n",
      "Data columns (total 8 columns):\n",
      " #   Column  Non-Null Count  Dtype \n",
      "---  ------  --------------  ----- \n",
      " 0   link    5 non-null      object\n",
      " 1   name    5 non-null      object\n",
      " 2   price   5 non-null      object\n",
      " 3   OS      5 non-null      object\n",
      " 4   RAM     5 non-null      object\n",
      " 5   ROM     5 non-null      object\n",
      " 6   diag    5 non-null      object\n",
      " 7   bat     5 non-null      object\n",
      "dtypes: object(8)\n",
      "memory usage: 452.0+ bytes\n"
     ]
    }
   ],
   "source": [
    "bf_cleaned.info()"
   ]
  },
  {
   "cell_type": "code",
   "execution_count": 10,
   "id": "fa4b57ae-a6c0-48e1-a5ab-ccdc39fbfc43",
   "metadata": {
    "tags": []
   },
   "outputs": [
    {
     "data": {
      "text/html": [
       "<div>\n",
       "<style scoped>\n",
       "    .dataframe tbody tr th:only-of-type {\n",
       "        vertical-align: middle;\n",
       "    }\n",
       "\n",
       "    .dataframe tbody tr th {\n",
       "        vertical-align: top;\n",
       "    }\n",
       "\n",
       "    .dataframe thead th {\n",
       "        text-align: right;\n",
       "    }\n",
       "</style>\n",
       "<table border=\"1\" class=\"dataframe\">\n",
       "  <thead>\n",
       "    <tr style=\"text-align: right;\">\n",
       "      <th></th>\n",
       "      <th>link</th>\n",
       "      <th>name</th>\n",
       "      <th>price</th>\n",
       "      <th>OS</th>\n",
       "      <th>RAM</th>\n",
       "      <th>ROM</th>\n",
       "      <th>diag</th>\n",
       "      <th>bat</th>\n",
       "    </tr>\n",
       "  </thead>\n",
       "  <tbody>\n",
       "    <tr>\n",
       "      <th>0</th>\n",
       "      <td>https://www.joom.ru/ru/products/66b1ed4d9d659d...</td>\n",
       "      <td>VIVO X100 Ultra 5G Смартфон 6,78 дюйма AMOLED ...</td>\n",
       "      <td>99 888 ₽</td>\n",
       "      <td>Android 14</td>\n",
       "      <td>12 ГБ</td>\n",
       "      <td>256 ГБ</td>\n",
       "      <td>6,78\"</td>\n",
       "      <td>5 500 мА·ч</td>\n",
       "    </tr>\n",
       "    <tr>\n",
       "      <th>1</th>\n",
       "      <td>https://www.joom.ru/ru/products/66b331016076a0...</td>\n",
       "      <td>Версия CN Xiaomi 14 Ultra 5G Смартфон 6.73 дюй...</td>\n",
       "      <td>95 103 ₽</td>\n",
       "      <td>Android 14</td>\n",
       "      <td>12 ГБ</td>\n",
       "      <td>256 ГБ</td>\n",
       "      <td>6,73\"</td>\n",
       "      <td>5 300 мА·ч</td>\n",
       "    </tr>\n",
       "    <tr>\n",
       "      <th>2</th>\n",
       "      <td>https://www.joom.ru/ru/products/66b2db8e163a53...</td>\n",
       "      <td>OPPO Найти N3 Flip 5G Smartphone Dimensity 9200</td>\n",
       "      <td>87 747 ₽</td>\n",
       "      <td>Android 13</td>\n",
       "      <td>12 ГБ</td>\n",
       "      <td>256 ГБ</td>\n",
       "      <td>6,8\"</td>\n",
       "      <td>5 000 мА·ч</td>\n",
       "    </tr>\n",
       "    <tr>\n",
       "      <th>3</th>\n",
       "      <td>https://www.joom.ru/ru/products/66d14582603ee1...</td>\n",
       "      <td>NUBIA Смартфон REDMAGIC 9S Pro 5G</td>\n",
       "      <td>92 176 ₽</td>\n",
       "      <td>Android 14.0</td>\n",
       "      <td>16 ГБ</td>\n",
       "      <td>512 ГБ</td>\n",
       "      <td>6,8\"</td>\n",
       "      <td>6 500 мА·ч</td>\n",
       "    </tr>\n",
       "    <tr>\n",
       "      <th>4</th>\n",
       "      <td>https://www.joom.ru/ru/products/66b2e3016076a0...</td>\n",
       "      <td>OPPO Найти X7 Ultra 5G Смартфон 6,78 дюйма Sna...</td>\n",
       "      <td>89 438 ₽</td>\n",
       "      <td>Android 14</td>\n",
       "      <td>12 ГБ</td>\n",
       "      <td>256 ГБ</td>\n",
       "      <td>6,82\"</td>\n",
       "      <td>5 000 мА·ч</td>\n",
       "    </tr>\n",
       "  </tbody>\n",
       "</table>\n",
       "</div>"
      ],
      "text/plain": [
       "                                                link  \\\n",
       "0  https://www.joom.ru/ru/products/66b1ed4d9d659d...   \n",
       "1  https://www.joom.ru/ru/products/66b331016076a0...   \n",
       "2  https://www.joom.ru/ru/products/66b2db8e163a53...   \n",
       "3  https://www.joom.ru/ru/products/66d14582603ee1...   \n",
       "4  https://www.joom.ru/ru/products/66b2e3016076a0...   \n",
       "\n",
       "                                                name     price            OS  \\\n",
       "0  VIVO X100 Ultra 5G Смартфон 6,78 дюйма AMOLED ...  99 888 ₽    Android 14   \n",
       "1  Версия CN Xiaomi 14 Ultra 5G Смартфон 6.73 дюй...  95 103 ₽    Android 14   \n",
       "2    OPPO Найти N3 Flip 5G Smartphone Dimensity 9200  87 747 ₽    Android 13   \n",
       "3                  NUBIA Смартфон REDMAGIC 9S Pro 5G  92 176 ₽  Android 14.0   \n",
       "4  OPPO Найти X7 Ultra 5G Смартфон 6,78 дюйма Sna...  89 438 ₽    Android 14   \n",
       "\n",
       "     RAM     ROM   diag         bat  \n",
       "0  12 ГБ  256 ГБ  6,78\"  5 500 мА·ч  \n",
       "1  12 ГБ  256 ГБ  6,73\"  5 300 мА·ч  \n",
       "2  12 ГБ  256 ГБ   6,8\"  5 000 мА·ч  \n",
       "3  16 ГБ  512 ГБ   6,8\"  6 500 мА·ч  \n",
       "4  12 ГБ  256 ГБ  6,82\"  5 000 мА·ч  "
      ]
     },
     "execution_count": 10,
     "metadata": {},
     "output_type": "execute_result"
    }
   ],
   "source": [
    "bf_cleaned.head()"
   ]
  },
  {
   "cell_type": "code",
   "execution_count": 11,
   "id": "359161c1-94e6-4582-9320-6328667ecb9d",
   "metadata": {
    "tags": []
   },
   "outputs": [],
   "source": [
    "bf_cleaned = bf_cleaned.reset_index()"
   ]
  },
  {
   "cell_type": "code",
   "execution_count": 12,
   "id": "ebf04918-aab9-4e3d-ab93-294e97d00db7",
   "metadata": {
    "tags": []
   },
   "outputs": [
    {
     "name": "stdout",
     "output_type": "stream",
     "text": [
      "<class 'pandas.core.frame.DataFrame'>\n",
      "RangeIndex: 5 entries, 0 to 4\n",
      "Data columns (total 9 columns):\n",
      " #   Column  Non-Null Count  Dtype \n",
      "---  ------  --------------  ----- \n",
      " 0   index   5 non-null      int64 \n",
      " 1   link    5 non-null      object\n",
      " 2   name    5 non-null      object\n",
      " 3   price   5 non-null      object\n",
      " 4   OS      5 non-null      object\n",
      " 5   RAM     5 non-null      object\n",
      " 6   ROM     5 non-null      object\n",
      " 7   diag    5 non-null      object\n",
      " 8   bat     5 non-null      object\n",
      "dtypes: int64(1), object(8)\n",
      "memory usage: 492.0+ bytes\n"
     ]
    }
   ],
   "source": [
    "bf_cleaned.info()"
   ]
  },
  {
   "cell_type": "code",
   "execution_count": 13,
   "id": "16424a5e-fce0-4e9f-9441-9c9897af948f",
   "metadata": {
    "tags": []
   },
   "outputs": [],
   "source": [
    "bf_cleaned = bf_cleaned.drop(['index'],axis=1)"
   ]
  },
  {
   "cell_type": "code",
   "execution_count": 14,
   "id": "7b9c6a87-76e0-4f9b-8d7f-4d810c496f93",
   "metadata": {
    "tags": []
   },
   "outputs": [],
   "source": [
    "company_names = ['OPPO','NUBIA','Blackview','VIVO','Xiaomi']"
   ]
  },
  {
   "cell_type": "code",
   "execution_count": 15,
   "id": "8e294ecc-57f9-47dc-b2f1-28a53db3376e",
   "metadata": {
    "tags": []
   },
   "outputs": [
    {
     "name": "stdout",
     "output_type": "stream",
     "text": [
      "VIVO X100 Ultra 5G Смартфон 6,78 дюйма AMOLED изогнутый э… Ещё\n",
      "Версия CN Xiaomi 14 Ultra 5G Смартфон 6.73 дюйма 2K AMOLED 120 Гц Эк… Ещё\n",
      "OPPO Найти N3 Flip 5G Smartphone Dimensity 9200\n",
      "NUBIA Смартфон REDMAGIC 9S Pro 5G\n",
      "OPPO Найти X7 Ultra 5G Смартфон 6,78 дюйма Snapdragon 8 Gen 3\n"
     ]
    }
   ],
   "source": [
    "for i in bf_cleaned['name']:\n",
    "    print(i)"
   ]
  },
  {
   "cell_type": "code",
   "execution_count": 16,
   "id": "1fe14a65-b665-468a-933c-33a6d38583b4",
   "metadata": {
    "tags": []
   },
   "outputs": [],
   "source": [
    "for index, row in bf_cleaned.iterrows():\n",
    "    for i in company_names:\n",
    "        if i in str(row['name']):\n",
    "            bf_cleaned.at[index, 'name'] = i"
   ]
  },
  {
   "cell_type": "code",
   "execution_count": 17,
   "id": "102cda4e-a70d-485d-a53a-ed06f6a77251",
   "metadata": {
    "tags": []
   },
   "outputs": [],
   "source": [
    "for index, row in bf_cleaned.iterrows():\n",
    "    word = row['price'].replace('₽', ' ')\n",
    "    word = word.replace('\\xa0', '')\n",
    "    bf_cleaned.at[index, 'price'] = int(word)"
   ]
  },
  {
   "cell_type": "code",
   "execution_count": 18,
   "id": "da871950-be94-4c10-89b5-8b260dc97db0",
   "metadata": {},
   "outputs": [],
   "source": [
    "for index, row in bf_cleaned.iterrows():\n",
    "    word = row['RAM'].split(' ')[0]\n",
    "    bf_cleaned.at[index, 'RAM'] = int(word)"
   ]
  },
  {
   "cell_type": "code",
   "execution_count": 19,
   "id": "dffce62d-2b75-4265-a7c0-fa066b3b7ed5",
   "metadata": {},
   "outputs": [],
   "source": [
    "for index, row in bf_cleaned.iterrows():\n",
    "    word = row['ROM'].split(' ')[0]\n",
    "    bf_cleaned.at[index, 'ROM'] = int(word)"
   ]
  },
  {
   "cell_type": "code",
   "execution_count": 20,
   "id": "20f489c3-dfba-4083-9dc8-3a124b559682",
   "metadata": {},
   "outputs": [],
   "source": [
    "for index, row in bf_cleaned.iterrows():\n",
    "    word = row['diag'].replace('\"', '')\n",
    "    word = word.replace(',', '.')\n",
    "    bf_cleaned.at[index, 'diag'] = float(word)"
   ]
  },
  {
   "cell_type": "code",
   "execution_count": 21,
   "id": "3cc40af3-a7db-4df1-a6b0-c73a10c04dce",
   "metadata": {},
   "outputs": [],
   "source": [
    "for index, row in bf_cleaned.iterrows():\n",
    "    word = row['bat'].split(' ')[0]\n",
    "    word = word.replace('\\xa0', '')\n",
    "    bf_cleaned.at[index, 'bat'] = int(word)"
   ]
  },
  {
   "cell_type": "code",
   "execution_count": 22,
   "id": "a02b9721-fd72-4d48-aa68-09c531df0a5a",
   "metadata": {
    "tags": []
   },
   "outputs": [
    {
     "data": {
      "text/html": [
       "<div>\n",
       "<style scoped>\n",
       "    .dataframe tbody tr th:only-of-type {\n",
       "        vertical-align: middle;\n",
       "    }\n",
       "\n",
       "    .dataframe tbody tr th {\n",
       "        vertical-align: top;\n",
       "    }\n",
       "\n",
       "    .dataframe thead th {\n",
       "        text-align: right;\n",
       "    }\n",
       "</style>\n",
       "<table border=\"1\" class=\"dataframe\">\n",
       "  <thead>\n",
       "    <tr style=\"text-align: right;\">\n",
       "      <th></th>\n",
       "      <th>link</th>\n",
       "      <th>name</th>\n",
       "      <th>price</th>\n",
       "      <th>OS</th>\n",
       "      <th>RAM</th>\n",
       "      <th>ROM</th>\n",
       "      <th>diag</th>\n",
       "      <th>bat</th>\n",
       "    </tr>\n",
       "  </thead>\n",
       "  <tbody>\n",
       "    <tr>\n",
       "      <th>0</th>\n",
       "      <td>https://www.joom.ru/ru/products/66b1ed4d9d659d...</td>\n",
       "      <td>VIVO</td>\n",
       "      <td>99888</td>\n",
       "      <td>Android 14</td>\n",
       "      <td>12</td>\n",
       "      <td>256</td>\n",
       "      <td>6.78</td>\n",
       "      <td>5500</td>\n",
       "    </tr>\n",
       "    <tr>\n",
       "      <th>1</th>\n",
       "      <td>https://www.joom.ru/ru/products/66b331016076a0...</td>\n",
       "      <td>Xiaomi</td>\n",
       "      <td>95103</td>\n",
       "      <td>Android 14</td>\n",
       "      <td>12</td>\n",
       "      <td>256</td>\n",
       "      <td>6.73</td>\n",
       "      <td>5300</td>\n",
       "    </tr>\n",
       "    <tr>\n",
       "      <th>2</th>\n",
       "      <td>https://www.joom.ru/ru/products/66b2db8e163a53...</td>\n",
       "      <td>OPPO</td>\n",
       "      <td>87747</td>\n",
       "      <td>Android 13</td>\n",
       "      <td>12</td>\n",
       "      <td>256</td>\n",
       "      <td>6.8</td>\n",
       "      <td>5000</td>\n",
       "    </tr>\n",
       "    <tr>\n",
       "      <th>3</th>\n",
       "      <td>https://www.joom.ru/ru/products/66d14582603ee1...</td>\n",
       "      <td>NUBIA</td>\n",
       "      <td>92176</td>\n",
       "      <td>Android 14.0</td>\n",
       "      <td>16</td>\n",
       "      <td>512</td>\n",
       "      <td>6.8</td>\n",
       "      <td>6500</td>\n",
       "    </tr>\n",
       "    <tr>\n",
       "      <th>4</th>\n",
       "      <td>https://www.joom.ru/ru/products/66b2e3016076a0...</td>\n",
       "      <td>OPPO</td>\n",
       "      <td>89438</td>\n",
       "      <td>Android 14</td>\n",
       "      <td>12</td>\n",
       "      <td>256</td>\n",
       "      <td>6.82</td>\n",
       "      <td>5000</td>\n",
       "    </tr>\n",
       "  </tbody>\n",
       "</table>\n",
       "</div>"
      ],
      "text/plain": [
       "                                                link    name  price  \\\n",
       "0  https://www.joom.ru/ru/products/66b1ed4d9d659d...    VIVO  99888   \n",
       "1  https://www.joom.ru/ru/products/66b331016076a0...  Xiaomi  95103   \n",
       "2  https://www.joom.ru/ru/products/66b2db8e163a53...    OPPO  87747   \n",
       "3  https://www.joom.ru/ru/products/66d14582603ee1...   NUBIA  92176   \n",
       "4  https://www.joom.ru/ru/products/66b2e3016076a0...    OPPO  89438   \n",
       "\n",
       "             OS RAM  ROM  diag   bat  \n",
       "0    Android 14  12  256  6.78  5500  \n",
       "1    Android 14  12  256  6.73  5300  \n",
       "2    Android 13  12  256   6.8  5000  \n",
       "3  Android 14.0  16  512   6.8  6500  \n",
       "4    Android 14  12  256  6.82  5000  "
      ]
     },
     "execution_count": 22,
     "metadata": {},
     "output_type": "execute_result"
    }
   ],
   "source": [
    "bf_cleaned.head()"
   ]
  },
  {
   "cell_type": "code",
   "execution_count": 23,
   "id": "7bfe139d-5a12-478f-8ebe-231c8d61d393",
   "metadata": {
    "tags": []
   },
   "outputs": [
    {
     "name": "stdout",
     "output_type": "stream",
     "text": [
      "<class 'pandas.core.frame.DataFrame'>\n",
      "RangeIndex: 5 entries, 0 to 4\n",
      "Data columns (total 8 columns):\n",
      " #   Column  Non-Null Count  Dtype \n",
      "---  ------  --------------  ----- \n",
      " 0   link    5 non-null      object\n",
      " 1   name    5 non-null      object\n",
      " 2   price   5 non-null      object\n",
      " 3   OS      5 non-null      object\n",
      " 4   RAM     5 non-null      object\n",
      " 5   ROM     5 non-null      object\n",
      " 6   diag    5 non-null      object\n",
      " 7   bat     5 non-null      object\n",
      "dtypes: object(8)\n",
      "memory usage: 452.0+ bytes\n"
     ]
    }
   ],
   "source": [
    "bf_cleaned.info() "
   ]
  },
  {
   "cell_type": "code",
   "execution_count": 24,
   "id": "fa4b8ef9-4dce-4a85-86e4-45fa3af98f5e",
   "metadata": {
    "tags": []
   },
   "outputs": [],
   "source": [
    "bf_cleaned = bf_cleaned.astype({'price': int,'RAM': int,\n",
    "            'ROM': int,'diag': float,'bat': int})\n"
   ]
  },
  {
   "cell_type": "code",
   "execution_count": 27,
   "id": "e84b0451-9719-46cb-a00e-3a77d0e16491",
   "metadata": {},
   "outputs": [],
   "source": [
    "final_df = bf_cleaned.copy()"
   ]
  },
  {
   "cell_type": "code",
   "execution_count": 28,
   "id": "6112f46d-0971-4fd2-b1fc-2f29e8c85529",
   "metadata": {
    "tags": []
   },
   "outputs": [],
   "source": [
    "import pickle\n",
    "with open('../db/ready_data.pkl', 'wb') as f:\n",
    "    pickle.dump(final_df, f)"
   ]
  },
  {
   "cell_type": "code",
   "execution_count": null,
   "id": "15bee630-434c-497d-830f-cabd065a3819",
   "metadata": {},
   "outputs": [],
   "source": []
  }
 ],
 "metadata": {
  "kernelspec": {
   "display_name": "Python 3 (ipykernel)",
   "language": "python",
   "name": "python3"
  },
  "language_info": {
   "codemirror_mode": {
    "name": "ipython",
    "version": 3
   },
   "file_extension": ".py",
   "mimetype": "text/x-python",
   "name": "python",
   "nbconvert_exporter": "python",
   "pygments_lexer": "ipython3",
   "version": "3.11.8"
  }
 },
 "nbformat": 4,
 "nbformat_minor": 5
}
