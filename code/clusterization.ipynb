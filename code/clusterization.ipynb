{
 "cells": [
  {
   "cell_type": "code",
   "execution_count": 1,
   "id": "37fda771-78c4-4df0-9179-a49cf6866849",
   "metadata": {
    "tags": []
   },
   "outputs": [],
   "source": [
    "import pandas as pd\n",
    "import numpy as np\n",
    "import matplotlib.pyplot as plt\n",
    "import seaborn as sns\n",
    "import pickle \n",
    "import plotly.express as px\n",
    "\n",
    "\n",
    "from sklearn.preprocessing import MinMaxScaler\n",
    "from sklearn.preprocessing import OneHotEncoder\n",
    "from sklearn.model_selection import train_test_split\n"
   ]
  },
  {
   "cell_type": "code",
   "execution_count": 2,
   "id": "4c2f9359-2ec7-4497-8bef-af4145b40a37",
   "metadata": {
    "tags": []
   },
   "outputs": [],
   "source": [
    "from sklearn.cluster import KMeans"
   ]
  },
  {
   "cell_type": "code",
   "execution_count": 3,
   "id": "05fa5e4d-e03b-4632-b22d-8cad97452d6a",
   "metadata": {
    "tags": []
   },
   "outputs": [],
   "source": [
    "df = pd.read_pickle(r\"../db/getting_over_it.pkl\")"
   ]
  },
  {
   "cell_type": "code",
   "execution_count": 4,
   "id": "6ebd28fa-9c11-4ebb-b336-1f88bf9ebcf5",
   "metadata": {
    "tags": []
   },
   "outputs": [
    {
     "name": "stdout",
     "output_type": "stream",
     "text": [
      "<class 'pandas.core.frame.DataFrame'>\n",
      "RangeIndex: 188 entries, 0 to 187\n",
      "Data columns (total 10 columns):\n",
      " #   Column      Non-Null Count  Dtype \n",
      "---  ------      --------------  ----- \n",
      " 0   link        188 non-null    object\n",
      " 1   name        187 non-null    object\n",
      " 2   price       187 non-null    object\n",
      " 3   stars       92 non-null     object\n",
      " 4   review_num  95 non-null     object\n",
      " 5   OS          187 non-null    object\n",
      " 6   RAM         187 non-null    object\n",
      " 7   ROM         187 non-null    object\n",
      " 8   diag        187 non-null    object\n",
      " 9   bat         187 non-null    object\n",
      "dtypes: object(10)\n",
      "memory usage: 14.8+ KB\n"
     ]
    }
   ],
   "source": [
    "df.info()"
   ]
  },
  {
   "cell_type": "code",
   "execution_count": 5,
   "id": "4f00e70f-2b07-4847-84a1-e2c58f14a843",
   "metadata": {
    "tags": []
   },
   "outputs": [
    {
     "data": {
      "text/html": [
       "<div>\n",
       "<style scoped>\n",
       "    .dataframe tbody tr th:only-of-type {\n",
       "        vertical-align: middle;\n",
       "    }\n",
       "\n",
       "    .dataframe tbody tr th {\n",
       "        vertical-align: top;\n",
       "    }\n",
       "\n",
       "    .dataframe thead th {\n",
       "        text-align: right;\n",
       "    }\n",
       "</style>\n",
       "<table border=\"1\" class=\"dataframe\">\n",
       "  <thead>\n",
       "    <tr style=\"text-align: right;\">\n",
       "      <th></th>\n",
       "      <th>link</th>\n",
       "      <th>name</th>\n",
       "      <th>price</th>\n",
       "      <th>stars</th>\n",
       "      <th>review_num</th>\n",
       "      <th>OS</th>\n",
       "      <th>RAM</th>\n",
       "      <th>ROM</th>\n",
       "      <th>diag</th>\n",
       "      <th>bat</th>\n",
       "    </tr>\n",
       "  </thead>\n",
       "  <tbody>\n",
       "    <tr>\n",
       "      <th>0</th>\n",
       "      <td>https://www.joom.ru/ru/products/66b1ed4d9d659d...</td>\n",
       "      <td>VIVO X100 Ultra 5G Смартфон 6,78 дюйма AMOLED ...</td>\n",
       "      <td>99 888 ₽</td>\n",
       "      <td>NaN</td>\n",
       "      <td>NaN</td>\n",
       "      <td>Android 14</td>\n",
       "      <td>12 ГБ</td>\n",
       "      <td>256 ГБ</td>\n",
       "      <td>6,78\"</td>\n",
       "      <td>5 500 мА·ч</td>\n",
       "    </tr>\n",
       "    <tr>\n",
       "      <th>1</th>\n",
       "      <td>https://www.joom.ru/ru/products/66b331016076a0...</td>\n",
       "      <td>Версия CN Xiaomi 14 Ultra 5G Смартфон 6.73 дюй...</td>\n",
       "      <td>95 103 ₽</td>\n",
       "      <td>NaN</td>\n",
       "      <td>NaN</td>\n",
       "      <td>Android 14</td>\n",
       "      <td>12 ГБ</td>\n",
       "      <td>256 ГБ</td>\n",
       "      <td>6,73\"</td>\n",
       "      <td>5 300 мА·ч</td>\n",
       "    </tr>\n",
       "    <tr>\n",
       "      <th>2</th>\n",
       "      <td>https://www.joom.ru/ru/products/66b2db8e163a53...</td>\n",
       "      <td>OPPO Найти N3 Flip 5G Smartphone Dimensity 9200</td>\n",
       "      <td>87 747 ₽</td>\n",
       "      <td>NaN</td>\n",
       "      <td>NaN</td>\n",
       "      <td>Android 13</td>\n",
       "      <td>12 ГБ</td>\n",
       "      <td>256 ГБ</td>\n",
       "      <td>6,8\"</td>\n",
       "      <td>5 000 мА·ч</td>\n",
       "    </tr>\n",
       "    <tr>\n",
       "      <th>3</th>\n",
       "      <td>https://www.joom.ru/ru/products/66d14582603ee1...</td>\n",
       "      <td>NUBIA Смартфон REDMAGIC 9S Pro 5G</td>\n",
       "      <td>92 176 ₽</td>\n",
       "      <td>NaN</td>\n",
       "      <td>NaN</td>\n",
       "      <td>Android 14.0</td>\n",
       "      <td>16 ГБ</td>\n",
       "      <td>512 ГБ</td>\n",
       "      <td>6,8\"</td>\n",
       "      <td>6 500 мА·ч</td>\n",
       "    </tr>\n",
       "    <tr>\n",
       "      <th>4</th>\n",
       "      <td>https://www.joom.ru/ru/products/66b2e3016076a0...</td>\n",
       "      <td>OPPO Найти X7 Ultra 5G Смартфон 6,78 дюйма Sna...</td>\n",
       "      <td>89 438 ₽</td>\n",
       "      <td>NaN</td>\n",
       "      <td>NaN</td>\n",
       "      <td>Android 14</td>\n",
       "      <td>12 ГБ</td>\n",
       "      <td>256 ГБ</td>\n",
       "      <td>6,82\"</td>\n",
       "      <td>5 000 мА·ч</td>\n",
       "    </tr>\n",
       "  </tbody>\n",
       "</table>\n",
       "</div>"
      ],
      "text/plain": [
       "                                                link  \\\n",
       "0  https://www.joom.ru/ru/products/66b1ed4d9d659d...   \n",
       "1  https://www.joom.ru/ru/products/66b331016076a0...   \n",
       "2  https://www.joom.ru/ru/products/66b2db8e163a53...   \n",
       "3  https://www.joom.ru/ru/products/66d14582603ee1...   \n",
       "4  https://www.joom.ru/ru/products/66b2e3016076a0...   \n",
       "\n",
       "                                                name     price stars  \\\n",
       "0  VIVO X100 Ultra 5G Смартфон 6,78 дюйма AMOLED ...  99 888 ₽   NaN   \n",
       "1  Версия CN Xiaomi 14 Ultra 5G Смартфон 6.73 дюй...  95 103 ₽   NaN   \n",
       "2    OPPO Найти N3 Flip 5G Smartphone Dimensity 9200  87 747 ₽   NaN   \n",
       "3                  NUBIA Смартфон REDMAGIC 9S Pro 5G  92 176 ₽   NaN   \n",
       "4  OPPO Найти X7 Ultra 5G Смартфон 6,78 дюйма Sna...  89 438 ₽   NaN   \n",
       "\n",
       "  review_num            OS    RAM     ROM   diag         bat  \n",
       "0        NaN    Android 14  12 ГБ  256 ГБ  6,78\"  5 500 мА·ч  \n",
       "1        NaN    Android 14  12 ГБ  256 ГБ  6,73\"  5 300 мА·ч  \n",
       "2        NaN    Android 13  12 ГБ  256 ГБ   6,8\"  5 000 мА·ч  \n",
       "3        NaN  Android 14.0  16 ГБ  512 ГБ   6,8\"  6 500 мА·ч  \n",
       "4        NaN    Android 14  12 ГБ  256 ГБ  6,82\"  5 000 мА·ч  "
      ]
     },
     "execution_count": 5,
     "metadata": {},
     "output_type": "execute_result"
    }
   ],
   "source": [
    "df.head()"
   ]
  },
  {
   "cell_type": "code",
   "execution_count": 6,
   "id": "f8dd9dc2-1246-4200-8133-09ddb8a839d6",
   "metadata": {},
   "outputs": [],
   "source": [
    "#Необходимо вырезать ссылку на продукт.\n",
    "#Выбрать основные кампании \n",
    "#Избавиться от имени\n",
    "#Подрезать знак рубля в цене\n",
    "#Подрезать покупки\n",
    "#Перевести процентовку рекомендуют в флоат\n",
    "#Количество обзоров в интов\n",
    "#Избавиться от мегапикселей\n",
    "#Избавиться от мА ч\n",
    "#Избавиться от \" в диагонали\n",
    "#Тыкнуть в ROM только первую часть и избавиться от гб\n",
    "#Избавиться от гб в РАМ"
   ]
  },
  {
   "cell_type": "code",
   "execution_count": 7,
   "id": "70a52bc9-bbd1-49d5-9ab8-2b1588d7a745",
   "metadata": {
    "tags": []
   },
   "outputs": [
    {
     "data": {
      "text/plain": [
       "array(['Android 14', 'Android 13', 'Android 14.0', 'Android 12',\n",
       "       'MIUI 14', 'Android 10', 'Android 11', 'Android 12.0',\n",
       "       'Android 9.0', 'Android 10.0', 'Android 9', 'Android 8.1',\n",
       "       'Android 6.0', nan], dtype=object)"
      ]
     },
     "execution_count": 7,
     "metadata": {},
     "output_type": "execute_result"
    }
   ],
   "source": [
    "df['OS'].unique()"
   ]
  },
  {
   "cell_type": "code",
   "execution_count": 8,
   "id": "c9d63d57-6eab-43ef-b97d-e587242dd9cd",
   "metadata": {
    "tags": []
   },
   "outputs": [],
   "source": [
    "bf_cleaned = df.dropna()"
   ]
  },
  {
   "cell_type": "code",
   "execution_count": 9,
   "id": "cd4e8287-b6c1-4826-986a-32a540e5c821",
   "metadata": {
    "tags": []
   },
   "outputs": [
    {
     "name": "stdout",
     "output_type": "stream",
     "text": [
      "<class 'pandas.core.frame.DataFrame'>\n",
      "Index: 92 entries, 14 to 187\n",
      "Data columns (total 10 columns):\n",
      " #   Column      Non-Null Count  Dtype \n",
      "---  ------      --------------  ----- \n",
      " 0   link        92 non-null     object\n",
      " 1   name        92 non-null     object\n",
      " 2   price       92 non-null     object\n",
      " 3   stars       92 non-null     object\n",
      " 4   review_num  92 non-null     object\n",
      " 5   OS          92 non-null     object\n",
      " 6   RAM         92 non-null     object\n",
      " 7   ROM         92 non-null     object\n",
      " 8   diag        92 non-null     object\n",
      " 9   bat         92 non-null     object\n",
      "dtypes: object(10)\n",
      "memory usage: 7.9+ KB\n"
     ]
    }
   ],
   "source": [
    "bf_cleaned.info()"
   ]
  },
  {
   "cell_type": "code",
   "execution_count": 10,
   "id": "fa4b57ae-a6c0-48e1-a5ab-ccdc39fbfc43",
   "metadata": {
    "tags": []
   },
   "outputs": [
    {
     "data": {
      "text/html": [
       "<div>\n",
       "<style scoped>\n",
       "    .dataframe tbody tr th:only-of-type {\n",
       "        vertical-align: middle;\n",
       "    }\n",
       "\n",
       "    .dataframe tbody tr th {\n",
       "        vertical-align: top;\n",
       "    }\n",
       "\n",
       "    .dataframe thead th {\n",
       "        text-align: right;\n",
       "    }\n",
       "</style>\n",
       "<table border=\"1\" class=\"dataframe\">\n",
       "  <thead>\n",
       "    <tr style=\"text-align: right;\">\n",
       "      <th></th>\n",
       "      <th>link</th>\n",
       "      <th>name</th>\n",
       "      <th>price</th>\n",
       "      <th>stars</th>\n",
       "      <th>review_num</th>\n",
       "      <th>OS</th>\n",
       "      <th>RAM</th>\n",
       "      <th>ROM</th>\n",
       "      <th>diag</th>\n",
       "      <th>bat</th>\n",
       "    </tr>\n",
       "  </thead>\n",
       "  <tbody>\n",
       "    <tr>\n",
       "      <th>14</th>\n",
       "      <td>https://www.joom.ru/ru/products/664f0d9c471f64...</td>\n",
       "      <td>8849 Tank 3 Pro от Unihertz с проектором 100 л...</td>\n",
       "      <td>64 286 ₽</td>\n",
       "      <td>3,9</td>\n",
       "      <td>8</td>\n",
       "      <td>Android 13</td>\n",
       "      <td>18 ГБ</td>\n",
       "      <td>512 ГБ</td>\n",
       "      <td>6,79\"</td>\n",
       "      <td>23 800 мА·ч</td>\n",
       "    </tr>\n",
       "    <tr>\n",
       "      <th>15</th>\n",
       "      <td>https://www.joom.ru/ru/products/63982cd5c7d205...</td>\n",
       "      <td>Глобальное ПЗУ Motorola Moto X30 Pro Motoroala...</td>\n",
       "      <td>54 229 ₽</td>\n",
       "      <td>5</td>\n",
       "      <td>1</td>\n",
       "      <td>Android 12</td>\n",
       "      <td>12 ГБ</td>\n",
       "      <td>256 ГБ</td>\n",
       "      <td>6,7\"</td>\n",
       "      <td>4 610 мА·ч</td>\n",
       "    </tr>\n",
       "    <tr>\n",
       "      <th>18</th>\n",
       "      <td>https://www.joom.ru/ru/products/63760294360a70...</td>\n",
       "      <td>Китайское ПЗУ Motorola moto X30 Pro 5G MOTO Ed...</td>\n",
       "      <td>54 229 ₽</td>\n",
       "      <td>5</td>\n",
       "      <td>1</td>\n",
       "      <td>Android 12</td>\n",
       "      <td>12 ГБ</td>\n",
       "      <td>256 ГБ</td>\n",
       "      <td>6,7\"</td>\n",
       "      <td>4 610 мА·ч</td>\n",
       "    </tr>\n",
       "    <tr>\n",
       "      <th>20</th>\n",
       "      <td>https://www.joom.ru/ru/products/667be52ef47ba0...</td>\n",
       "      <td>Blackview Смартфон BL9000 Pro, 5G, тепловизион...</td>\n",
       "      <td>51 662 ₽</td>\n",
       "      <td>5</td>\n",
       "      <td>1</td>\n",
       "      <td>Android 14</td>\n",
       "      <td>24 ГБ</td>\n",
       "      <td>512 ГБ</td>\n",
       "      <td>6,78\"</td>\n",
       "      <td>8 800 мА·ч</td>\n",
       "    </tr>\n",
       "    <tr>\n",
       "      <th>22</th>\n",
       "      <td>https://www.joom.ru/ru/products/65eecb4b6f475c...</td>\n",
       "      <td>Защищенный смартфон 8849 Tank 3</td>\n",
       "      <td>50 018 ₽</td>\n",
       "      <td>4,8</td>\n",
       "      <td>2</td>\n",
       "      <td>Android 13</td>\n",
       "      <td>16 ГБ</td>\n",
       "      <td>512 ГБ</td>\n",
       "      <td>6,79\"</td>\n",
       "      <td>23 800 мА·ч</td>\n",
       "    </tr>\n",
       "  </tbody>\n",
       "</table>\n",
       "</div>"
      ],
      "text/plain": [
       "                                                 link  \\\n",
       "14  https://www.joom.ru/ru/products/664f0d9c471f64...   \n",
       "15  https://www.joom.ru/ru/products/63982cd5c7d205...   \n",
       "18  https://www.joom.ru/ru/products/63760294360a70...   \n",
       "20  https://www.joom.ru/ru/products/667be52ef47ba0...   \n",
       "22  https://www.joom.ru/ru/products/65eecb4b6f475c...   \n",
       "\n",
       "                                                 name     price stars  \\\n",
       "14  8849 Tank 3 Pro от Unihertz с проектором 100 л...  64 286 ₽   3,9   \n",
       "15  Глобальное ПЗУ Motorola Moto X30 Pro Motoroala...  54 229 ₽     5   \n",
       "18  Китайское ПЗУ Motorola moto X30 Pro 5G MOTO Ed...  54 229 ₽     5   \n",
       "20  Blackview Смартфон BL9000 Pro, 5G, тепловизион...  51 662 ₽     5   \n",
       "22                    Защищенный смартфон 8849 Tank 3  50 018 ₽   4,8   \n",
       "\n",
       "   review_num          OS    RAM     ROM   diag          bat  \n",
       "14          8  Android 13  18 ГБ  512 ГБ  6,79\"  23 800 мА·ч  \n",
       "15          1  Android 12  12 ГБ  256 ГБ   6,7\"   4 610 мА·ч  \n",
       "18          1  Android 12  12 ГБ  256 ГБ   6,7\"   4 610 мА·ч  \n",
       "20          1  Android 14  24 ГБ  512 ГБ  6,78\"   8 800 мА·ч  \n",
       "22          2  Android 13  16 ГБ  512 ГБ  6,79\"  23 800 мА·ч  "
      ]
     },
     "execution_count": 10,
     "metadata": {},
     "output_type": "execute_result"
    }
   ],
   "source": [
    "bf_cleaned.head()"
   ]
  },
  {
   "cell_type": "code",
   "execution_count": 11,
   "id": "359161c1-94e6-4582-9320-6328667ecb9d",
   "metadata": {
    "tags": []
   },
   "outputs": [],
   "source": [
    "bf_cleaned = bf_cleaned.reset_index()"
   ]
  },
  {
   "cell_type": "code",
   "execution_count": 12,
   "id": "ebf04918-aab9-4e3d-ab93-294e97d00db7",
   "metadata": {
    "tags": []
   },
   "outputs": [
    {
     "name": "stdout",
     "output_type": "stream",
     "text": [
      "<class 'pandas.core.frame.DataFrame'>\n",
      "RangeIndex: 92 entries, 0 to 91\n",
      "Data columns (total 11 columns):\n",
      " #   Column      Non-Null Count  Dtype \n",
      "---  ------      --------------  ----- \n",
      " 0   index       92 non-null     int64 \n",
      " 1   link        92 non-null     object\n",
      " 2   name        92 non-null     object\n",
      " 3   price       92 non-null     object\n",
      " 4   stars       92 non-null     object\n",
      " 5   review_num  92 non-null     object\n",
      " 6   OS          92 non-null     object\n",
      " 7   RAM         92 non-null     object\n",
      " 8   ROM         92 non-null     object\n",
      " 9   diag        92 non-null     object\n",
      " 10  bat         92 non-null     object\n",
      "dtypes: int64(1), object(10)\n",
      "memory usage: 8.0+ KB\n"
     ]
    }
   ],
   "source": [
    "bf_cleaned.info()"
   ]
  },
  {
   "cell_type": "code",
   "execution_count": 13,
   "id": "16424a5e-fce0-4e9f-9441-9c9897af948f",
   "metadata": {
    "tags": []
   },
   "outputs": [],
   "source": [
    "bf_cleaned = bf_cleaned.drop(['index', 'link'],axis=1)"
   ]
  },
  {
   "cell_type": "code",
   "execution_count": 14,
   "id": "7b9c6a87-76e0-4f9b-8d7f-4d810c496f93",
   "metadata": {
    "tags": []
   },
   "outputs": [],
   "source": [
    "company_names = ['Unihertz','Motorola','Blackview','8849','Ulefone','Oscal','Blackview','Lenovo','Xiaomi','Oukitel ','UMIDIGI', 'Cubot', 'Soyes', 'QIN']"
   ]
  },
  {
   "cell_type": "code",
   "execution_count": 15,
   "id": "8e294ecc-57f9-47dc-b2f1-28a53db3376e",
   "metadata": {
    "tags": []
   },
   "outputs": [
    {
     "name": "stdout",
     "output_type": "stream",
     "text": [
      "8849 Tank 3 Pro от Unihertz с проектором 100 люмен, 120 Гц, 32… Ещё\n",
      "Глобальное ПЗУ Motorola Moto X30 Pro Motoroala Edge 30 Ultra 5G 12 Г… Ещё\n",
      "Китайское ПЗУ Motorola moto X30 Pro 5G MOTO Edge 30 Ultra Тройна… Ещё\n",
      "Blackview Смартфон BL9000 Pro, 5G, тепловизионный, 24 … Ещё\n",
      "Защищенный смартфон 8849 Tank 3\n",
      "Ulefone Прочный телефон Armor 23 Ultra 5G, спутниковое соо… Ещё\n",
      "Защищённый смартфон Blackview BL9000 5G\n",
      "Китайский ПЗУ, игровой смартфон Lenovo Legion Y70, 6,67 дюйма, 144 … Ещё\n",
      "Глобальная прошивка Redmi Note 13 Pro Redmi Note13 Pro 5G Смарт… Ещё\n",
      "Защищенный смартфон 8849 By Unihertz Tank\n",
      "Ulefone Прочный телефон Armor 24, 22000 мАч, 24 ГБ + 256 ГБ, … Ещё\n",
      "Смартфон Ulefone Power Armor 13, NFC, глобальная версия\n",
      "Защищенный смартфон 8849 Tank Mini\n",
      "Blackview Смартфон A200 Pro, 24 ГБ ОЗУ, 256 ГБ ПЗУ, изогнутый экра… Ещё\n",
      "Ulefone Прочный телефон Armor 21, 16 ГБ ОЗУ, 256 ГБ ПЗУ, сма… Ещё\n",
      "Cubot KINGKONG X, защищенный смартфон 5G, MTK Dimensity 70… Ещё\n",
      "Смартфон Cubot KingKong 9\n",
      "Смартфон Cubot Hafury Meet\n",
      "Xiaomi Redmi Note 13 5G Redmi Note13 5G Смартфон Dimensity … Ещё\n",
      "Blackview Защищенный смартфон BV9200, мобильный телефон,… Ещё\n",
      "Oukitel Прочный смартфон WP27, 12 ГБ ОЗУ + 256 ГБ ПЗУ, ак… Ещё\n",
      "Cubot X90, смартфон Android 14, изогнутый AMOLED-дисплей 6,6… Ещё\n",
      "Смартфон Ulefone Power Armor 14 Pro, NFC, глобальная версия\n",
      "UMIDIGI BISON GT2 5G/PRO 5G IP68 IP69K Android 12 Прочный … Ещё\n",
      "Смартфон Qin 3 Ultra\n",
      "Ulefone Power Armor 16S Прочный водонепроницаемы… Ещё\n",
      "Cмартфон Blackview A96\n",
      "Глобальная прошивка Xiaomi Redmi Note 13 5G Redmi Note13 5G Сма… Ещё\n",
      "Смартфон Xiaomi Redmi Note 11 5G\n",
      "Xiaomi Redmi Note 11 5G Redmi Note11 5G Смартфон Global RO… Ещё\n",
      "Cubot KINGKONG ACE 3, защищенный смартфон Android 14, Helio G88… Ещё\n",
      "Смартфон Cubot X70\n",
      "Cubot KingKong Power, водонепроницаемый прочный смартфон, … Ещё\n",
      "Смартфон Cubot Hafury V1\n",
      "UMIDIGI Смартфон F3 PRO 5G, размер 700, Android 13, экран 6,6 … Ещё\n",
      "Смартфон Xiaomi Redmi Note 9 5G\n",
      "Смартфон Oscal TIGER 12\n",
      "Смартфон Blackview SHARK 8\n",
      "Ulefone Смартфон Note 16 Pro, 512 ГБ ПЗУ/128 ГБ ПЗУ/256 ГБ ПЗУ, Andr… Ещё\n",
      "Xiaomi Redmi 10A Redmi10A Смартфон 5000 мАч Большая батаре… Ещё\n",
      "Смартфон Blackview A100\n",
      "UMIDIGI Смартфон A15 NFC, 8 ГБ, 256 ГБ, 64 МП, Unisoc T616, Android … Ещё\n",
      "Защищенный смартфон Cubot Kingkong 8\n",
      "Xiaomi Redmi 12C Redmi12C Смартфон Helio G85 Octa Core 50MP … Ещё\n",
      "[Мировая премьера] Смартфон UMIDIGI G6 5G, Android 13, NFC, Dim… Ещё\n",
      "Cubot P80, смартфон на базе Android 13, глобальная версия, 8… Ещё\n",
      "Защищенный смартфон Blackview BV6200\n",
      "Oscal Прочный смартфон S70 Pro, Android 12, водонепроницаемы… Ещё\n",
      "UMIDIGI Смартфон A15C T606 NFC Android 13 6,7 дюйма FHD + экран … Ещё\n",
      "Blackview Смартфон A85, глобальная версия, 8 ГБ, 128 ГБ, 6,5 дюйма, ди… Ещё\n",
      "Blackview BV5300 Pro, водонепроницаемый прочный смартфон с… Ещё\n",
      "UMIDIGI Прочный смартфон G5 Mecha, Android 13, 6,6 дюйм… Ещё\n",
      "[Мировая премьера] UMIDIGI G9 5G смартфон Android 14 глобальна… Ещё\n",
      "Маленький смартфон XS16 Pro, 4,0-дюймовый восьмиъядерный пр… Ещё\n",
      "Oscal Смартфон TIGER 10, 8 ГБ + 256 ГБ, восьмиядерный про… Ещё\n",
      "Смартфон Xiaomi Redmi 10A\n",
      "UMIDIGI Смартфон A15T Android 13 NFC Helio G95 8G+128G 64MP AI-ка… Ещё\n",
      "Смартфон Cubot NOTE 50\n",
      "Soyes XS14 Pro 3,0-дюймовый 4G мини-смартфон Android 9,… Ещё\n",
      "Глобальная версия QIN 2 Pro, полноэкранный телефон, сеть 4G, Wi-… Ещё\n",
      "Защищённый смартфон Blackview BV4800\n",
      "Смартфон Blackview COLOR 8\n",
      "Soyes Мини-смартфон XS12 Pro 4G, 3,0 дюйма, Android 10,0, Bluetoot… Ещё\n",
      "Xiaomi Redmi 9A Смартфон Redmi 9A 9 A MTK Helio G25 Octa C… Ещё\n",
      "Смартфон Xiaomi Redmi 9A\n",
      "Смартфон Figi Note 1\n",
      "Смартфон Cubot Note 21\n",
      "Смартфон Oscal C70\n",
      "Смартфон Oscal Modern 8\n",
      "Blackview Новый смартфон A52 Pro, 4 ГБ, 128 ГБ, 6,5 дюйма, An… Ещё\n",
      "Cubot Android-смартфон A10, 4 ГБ ОЗУ + 128 ГБ ПЗУ, восьмиъядерны… Ещё\n",
      "Cubot Смартфон Note 40, 12 ГБ ОЗУ (6 ГБ+6 ГБ расширенный) + 256… Ещё\n",
      "Soyes Мини-смартфон XS14 PRO 4G, 3,0-дюймовый четырехъ… Ещё\n",
      "Маленький смартфон XS15 PRO, 3,0 дюйма, Android 9,0, четырех… Ещё\n",
      "Soyes Маленький смартфон XS14 PRO 4G, 3,0 дюйма, Android 9… Ещё\n",
      "Blackview Смартфон WAVE 6C 2 ГБ+32 ГБ Android 13\n",
      "Смартфон Oscal FLAT 1C\n",
      "Маленький смартфон M80 PRO, 3,0 дюйма, Android 9,0, четырех… Ещё\n",
      "Soyes XS16 4G смартфон 3.0 дюйма Android 8.0 четырехъядерный 2… Ещё\n",
      "Soyes Мини-смартфон S23 Pro 4G, 3,0-дюймовый, Android … Ещё\n",
      "Soyes Мини-смартфон XS15, 3,0-дюймовый дисплей, 2 ГБ ОЗУ, 16… Ещё\n",
      "Soyes Мини-смартфоны S23 Pro, Android 8,1, 2 ГБ + 16 ГБ, две SIM-карт… Ещё\n",
      "Soyes Смартфон XS17 Pro, 3,0 дюйма, Android 9,0, две SIM-карты, 2 ГБ … Ещё\n",
      "Soyes Маленький смартфон 7S, 2,5-дюймовый Android 9… Ещё\n",
      "Soyes Маленький смартфон P40, 2,5-дюймовый Android 9… Ещё\n",
      "Soyes XS13 Mini Android-смартфон 2,5-дюймовый HD-дисплей Две SIM… Ещё\n",
      "Soyes Маленький смартфон XS11, 2,5-дюймовый четырехъ… Ещё\n",
      "Soyes Мини-смартфон XS15, 3,0-дюймовый дисплей, Android 8,1, … Ещё\n",
      "Новый маленький смартфон SOYES XS13 Pro 3G, 2,5 дюйма, Andro… Ещё\n",
      "Маленький смартфон S26, 3,0-дюймовый Android 8,1, две SIM-… Ещё\n",
      "Soyes 7S небольшой смартфон 2,5 дюйма 1 ГБ ОЗУ 8 ГБ ПЗУ Androi… Ещё\n",
      "Смартфон Cubot J10\n"
     ]
    }
   ],
   "source": [
    "for i in bf_cleaned['name']:\n",
    "    print(i)"
   ]
  },
  {
   "cell_type": "code",
   "execution_count": 16,
   "id": "1fe14a65-b665-468a-933c-33a6d38583b4",
   "metadata": {
    "tags": []
   },
   "outputs": [],
   "source": [
    "for index, row in bf_cleaned.iterrows():\n",
    "    for i in company_names:\n",
    "        if i in str(row['name']):\n",
    "            bf_cleaned.at[index, 'name'] = i"
   ]
  },
  {
   "cell_type": "code",
   "execution_count": 17,
   "id": "102cda4e-a70d-485d-a53a-ed06f6a77251",
   "metadata": {
    "tags": []
   },
   "outputs": [],
   "source": [
    "for index, row in bf_cleaned.iterrows():\n",
    "    word = row['price'].replace('₽', ' ')\n",
    "    word = word.replace('\\xa0', '')\n",
    "    bf_cleaned.at[index, 'price'] = int(word)"
   ]
  },
  {
   "cell_type": "code",
   "execution_count": 18,
   "id": "553f45fb-2e49-49db-ae0c-9fd76e89efaf",
   "metadata": {},
   "outputs": [],
   "source": [
    "for index, row in bf_cleaned.iterrows():\n",
    "    word = row['stars'].split(',')\n",
    "    try:\n",
    "        bf_cleaned.at[index, 'stars'] = float(word[0]+'.'+word[1])\n",
    "    except:\n",
    "        bf_cleaned.at[index, 'stars'] = float(word[0]+'.'+'0')"
   ]
  },
  {
   "cell_type": "code",
   "execution_count": 19,
   "id": "da871950-be94-4c10-89b5-8b260dc97db0",
   "metadata": {},
   "outputs": [],
   "source": [
    "for index, row in bf_cleaned.iterrows():\n",
    "    word = row['RAM'].split(' ')[0]\n",
    "    bf_cleaned.at[index, 'RAM'] = int(word)"
   ]
  },
  {
   "cell_type": "code",
   "execution_count": 20,
   "id": "dffce62d-2b75-4265-a7c0-fa066b3b7ed5",
   "metadata": {},
   "outputs": [],
   "source": [
    "for index, row in bf_cleaned.iterrows():\n",
    "    word = row['ROM'].split(' ')[0]\n",
    "    bf_cleaned.at[index, 'ROM'] = int(word)"
   ]
  },
  {
   "cell_type": "code",
   "execution_count": 21,
   "id": "20f489c3-dfba-4083-9dc8-3a124b559682",
   "metadata": {},
   "outputs": [],
   "source": [
    "for index, row in bf_cleaned.iterrows():\n",
    "    word = row['diag'].replace('\"', '')\n",
    "    word = word.replace(',', '.')\n",
    "    bf_cleaned.at[index, 'diag'] = float(word)"
   ]
  },
  {
   "cell_type": "code",
   "execution_count": 22,
   "id": "3cc40af3-a7db-4df1-a6b0-c73a10c04dce",
   "metadata": {},
   "outputs": [],
   "source": [
    "for index, row in bf_cleaned.iterrows():\n",
    "    word = row['bat'].split(' ')[0]\n",
    "    word = word.replace('\\xa0', '')\n",
    "    bf_cleaned.at[index, 'bat'] = int(word)"
   ]
  },
  {
   "cell_type": "code",
   "execution_count": 23,
   "id": "2dcc31a5-39de-437a-a5b6-d03ccbedaf7d",
   "metadata": {
    "tags": []
   },
   "outputs": [],
   "source": [
    " for index, row in bf_cleaned.iterrows():\n",
    "    word = row['review_num'].split(' ')[0]\n",
    "    word = word.replace('\\xa0000', '')\n",
    "    bf_cleaned.at[index, 'review_num'] = int(word)\n",
    "    \n",
    "    "
   ]
  },
  {
   "cell_type": "code",
   "execution_count": 24,
   "id": "a02b9721-fd72-4d48-aa68-09c531df0a5a",
   "metadata": {
    "tags": []
   },
   "outputs": [
    {
     "data": {
      "text/html": [
       "<div>\n",
       "<style scoped>\n",
       "    .dataframe tbody tr th:only-of-type {\n",
       "        vertical-align: middle;\n",
       "    }\n",
       "\n",
       "    .dataframe tbody tr th {\n",
       "        vertical-align: top;\n",
       "    }\n",
       "\n",
       "    .dataframe thead th {\n",
       "        text-align: right;\n",
       "    }\n",
       "</style>\n",
       "<table border=\"1\" class=\"dataframe\">\n",
       "  <thead>\n",
       "    <tr style=\"text-align: right;\">\n",
       "      <th></th>\n",
       "      <th>name</th>\n",
       "      <th>price</th>\n",
       "      <th>stars</th>\n",
       "      <th>review_num</th>\n",
       "      <th>OS</th>\n",
       "      <th>RAM</th>\n",
       "      <th>ROM</th>\n",
       "      <th>diag</th>\n",
       "      <th>bat</th>\n",
       "    </tr>\n",
       "  </thead>\n",
       "  <tbody>\n",
       "    <tr>\n",
       "      <th>0</th>\n",
       "      <td>Unihertz</td>\n",
       "      <td>64286</td>\n",
       "      <td>3.9</td>\n",
       "      <td>8</td>\n",
       "      <td>Android 13</td>\n",
       "      <td>18</td>\n",
       "      <td>512</td>\n",
       "      <td>6.79</td>\n",
       "      <td>23800</td>\n",
       "    </tr>\n",
       "    <tr>\n",
       "      <th>1</th>\n",
       "      <td>Motorola</td>\n",
       "      <td>54229</td>\n",
       "      <td>5.0</td>\n",
       "      <td>1</td>\n",
       "      <td>Android 12</td>\n",
       "      <td>12</td>\n",
       "      <td>256</td>\n",
       "      <td>6.7</td>\n",
       "      <td>4610</td>\n",
       "    </tr>\n",
       "    <tr>\n",
       "      <th>2</th>\n",
       "      <td>Motorola</td>\n",
       "      <td>54229</td>\n",
       "      <td>5.0</td>\n",
       "      <td>1</td>\n",
       "      <td>Android 12</td>\n",
       "      <td>12</td>\n",
       "      <td>256</td>\n",
       "      <td>6.7</td>\n",
       "      <td>4610</td>\n",
       "    </tr>\n",
       "    <tr>\n",
       "      <th>3</th>\n",
       "      <td>Blackview</td>\n",
       "      <td>51662</td>\n",
       "      <td>5.0</td>\n",
       "      <td>1</td>\n",
       "      <td>Android 14</td>\n",
       "      <td>24</td>\n",
       "      <td>512</td>\n",
       "      <td>6.78</td>\n",
       "      <td>8800</td>\n",
       "    </tr>\n",
       "    <tr>\n",
       "      <th>4</th>\n",
       "      <td>8849</td>\n",
       "      <td>50018</td>\n",
       "      <td>4.8</td>\n",
       "      <td>2</td>\n",
       "      <td>Android 13</td>\n",
       "      <td>16</td>\n",
       "      <td>512</td>\n",
       "      <td>6.79</td>\n",
       "      <td>23800</td>\n",
       "    </tr>\n",
       "  </tbody>\n",
       "</table>\n",
       "</div>"
      ],
      "text/plain": [
       "        name  price stars review_num          OS RAM  ROM  diag    bat\n",
       "0   Unihertz  64286   3.9          8  Android 13  18  512  6.79  23800\n",
       "1   Motorola  54229   5.0          1  Android 12  12  256   6.7   4610\n",
       "2   Motorola  54229   5.0          1  Android 12  12  256   6.7   4610\n",
       "3  Blackview  51662   5.0          1  Android 14  24  512  6.78   8800\n",
       "4       8849  50018   4.8          2  Android 13  16  512  6.79  23800"
      ]
     },
     "execution_count": 24,
     "metadata": {},
     "output_type": "execute_result"
    }
   ],
   "source": [
    "bf_cleaned.head()"
   ]
  },
  {
   "cell_type": "code",
   "execution_count": 25,
   "id": "7bfe139d-5a12-478f-8ebe-231c8d61d393",
   "metadata": {
    "tags": []
   },
   "outputs": [
    {
     "name": "stdout",
     "output_type": "stream",
     "text": [
      "<class 'pandas.core.frame.DataFrame'>\n",
      "RangeIndex: 92 entries, 0 to 91\n",
      "Data columns (total 9 columns):\n",
      " #   Column      Non-Null Count  Dtype \n",
      "---  ------      --------------  ----- \n",
      " 0   name        92 non-null     object\n",
      " 1   price       92 non-null     object\n",
      " 2   stars       92 non-null     object\n",
      " 3   review_num  92 non-null     object\n",
      " 4   OS          92 non-null     object\n",
      " 5   RAM         92 non-null     object\n",
      " 6   ROM         92 non-null     object\n",
      " 7   diag        92 non-null     object\n",
      " 8   bat         92 non-null     object\n",
      "dtypes: object(9)\n",
      "memory usage: 6.6+ KB\n"
     ]
    }
   ],
   "source": [
    "bf_cleaned.info() "
   ]
  },
  {
   "cell_type": "code",
   "execution_count": 26,
   "id": "fa4b8ef9-4dce-4a85-86e4-45fa3af98f5e",
   "metadata": {
    "tags": []
   },
   "outputs": [],
   "source": [
    "bf_cleaned = bf_cleaned.astype({'price': int,'review_num': int,\n",
    "            'stars': float,'RAM': int,\n",
    "            'ROM': int,'diag': float,'bat': int})\n"
   ]
  },
  {
   "cell_type": "code",
   "execution_count": 27,
   "id": "e84b0451-9719-46cb-a00e-3a77d0e16491",
   "metadata": {},
   "outputs": [],
   "source": [
    "final_df = bf_cleaned.copy()"
   ]
  },
  {
   "cell_type": "code",
   "execution_count": 28,
   "id": "5418f074-26a3-49e0-bcc6-f69c70fd3d83",
   "metadata": {
    "tags": []
   },
   "outputs": [],
   "source": [
    "final_f_df = final_df[final_df['name'].str.len() <= 10]"
   ]
  },
  {
   "cell_type": "code",
   "execution_count": 30,
   "id": "6112f46d-0971-4fd2-b1fc-2f29e8c85529",
   "metadata": {
    "tags": []
   },
   "outputs": [],
   "source": [
    "import pickle\n",
    "with open('../db/ready_data.pkl', 'wb') as f:\n",
    "    pickle.dump(final_f_df, f)"
   ]
  },
  {
   "cell_type": "code",
   "execution_count": null,
   "id": "15bee630-434c-497d-830f-cabd065a3819",
   "metadata": {},
   "outputs": [],
   "source": []
  }
 ],
 "metadata": {
  "kernelspec": {
   "display_name": "Python 3 (ipykernel)",
   "language": "python",
   "name": "python3"
  },
  "language_info": {
   "codemirror_mode": {
    "name": "ipython",
    "version": 3
   },
   "file_extension": ".py",
   "mimetype": "text/x-python",
   "name": "python",
   "nbconvert_exporter": "python",
   "pygments_lexer": "ipython3",
   "version": "3.11.8"
  }
 },
 "nbformat": 4,
 "nbformat_minor": 5
}
